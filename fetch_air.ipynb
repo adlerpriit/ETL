{
 "cells": [
  {
   "cell_type": "code",
   "execution_count": null,
   "metadata": {},
   "outputs": [],
   "source": [
    "import requests\n",
    "\n",
    "def fetch_air_range(station_id, date_from, date_until):\n",
    "    # Define the URL of the endpoint that provides the air quality data\n",
    "    url = 'http://airviro.klab.ee/station/csv'\n",
    "    \n",
    "    # Define the parameters to be sent with the POST request to the endpoint\n",
    "    data = {\n",
    "        'filter[type]': 'INDICATOR',\n",
    "        'filter[cancelSearch]': '',\n",
    "        'filter[stationId]': station_id,\n",
    "        'filter[dateFrom]': date_from,\n",
    "        'filter[dateUntil]': date_until,\n",
    "        'filter[submitHit]': '1',\n",
    "        'filter[indicatorIds]': ''\n",
    "    }\n",
    "    \n",
    "    # Send a POST request to the endpoint with the specified parameters\n",
    "    response = requests.post(url, data)\n",
    "    \n",
    "    # Return the text content of the response\n",
    "    return response.text\n",
    "\n",
    "import datetime\n",
    "\n",
    "def get_first_and_last_day_of_month(year, month):\n",
    "    # Get the first day of the month\n",
    "    first_day = datetime.date(year, month, 1)\n",
    "\n",
    "    # Get the number of days in the month\n",
    "    if month == 12:\n",
    "        num_days = 31\n",
    "    else:\n",
    "        num_days = (datetime.date(year, month+1, 1) - datetime.timedelta(days=1)).day\n",
    "\n",
    "    # Get the last day of the month\n",
    "    last_day = datetime.date(year, month, num_days)\n",
    "\n",
    "    return first_day, last_day\n"
   ]
  },
  {
   "attachments": {},
   "cell_type": "markdown",
   "metadata": {},
   "source": [
    "Apply functions from the last cell to iterate over the moths of year 2022, fetch air quality infromation for each month and write it into a file."
   ]
  },
  {
   "cell_type": "code",
   "execution_count": null,
   "metadata": {},
   "outputs": [],
   "source": [
    "import os\n",
    "# Define the year for which to fetch air quality data\n",
    "year = 2022\n",
    "\n",
    "os.makedirs('air_data', exist_ok=True)\n",
    "\n",
    "# Loop through the months of the year and fetch air quality data for each month\n",
    "for month in range(1, 13):\n",
    "    # Get the first and last day of the month\n",
    "    first_day, last_day = get_first_and_last_day_of_month(year, month)\n",
    "\n",
    "    # Print the first and last day of the month for debugging purposes\n",
    "    print(first_day, last_day)\n",
    "\n",
    "    # Fetch the air quality data for the month\n",
    "    data = fetch_air_range(8, first_day, last_day)\n",
    "\n",
    "    # Write the data to a CSV file\n",
    "    with open(f'air_data/air_{year}_{month}.csv', 'w') as f:\n",
    "        f.write(data)"
   ]
  },
  {
   "attachments": {},
   "cell_type": "markdown",
   "metadata": {},
   "source": [
    "It would be cumbersome to check each individual month file. Stich them together into single year file."
   ]
  },
  {
   "cell_type": "code",
   "execution_count": null,
   "metadata": {},
   "outputs": [],
   "source": [
    "# Define the year for which to consolidate air quality data\n",
    "year = 2022\n",
    "\n",
    "# Define an empty list to store the data\n",
    "data = []\n",
    "\n",
    "# Loop through the months of the year and append the data to the list\n",
    "for month in range(1, 13):\n",
    "    # Open the CSV file for the month\n",
    "    with open(f'air_data/air_{year}_{month}.csv', 'r') as f:\n",
    "        # If this is the first month, store the header row\n",
    "        if month == 1:\n",
    "            header = f.readline()\n",
    "            data.append(header)\n",
    "        # Otherwise, skip the header row\n",
    "        else:\n",
    "            f.readline()\n",
    "        # Append the remaining data to the list\n",
    "        data.extend(f.readlines())\n",
    "\n",
    "# Write the consolidated data to a CSV file\n",
    "with open(f'air_data/air_{year}.csv', 'w') as f:\n",
    "    f.writelines(data)\n"
   ]
  },
  {
   "attachments": {},
   "cell_type": "markdown",
   "metadata": {},
   "source": [
    "After the data has been checked and converted using `OpenRefine` software using the steps from `data_tranform_steps_air.json`, we can create sqlite3 database file uing following commands:\n",
    "```\n",
    "# in terminal (and in air_data folder)\n",
    "sqlite3 air-2022.db\n",
    "# on sqlite3 prompt\n",
    ".read air-2022.sql\n",
    ".exit\n",
    "```\n",
    "\n",
    "After that we can open the `sqlite3` database and connect to it using package of the same name (needs to be installed).\n",
    "Using `pandas` package we can easily calculate day and month average metrics for air data and create corresponding new\n",
    "tables to the given database file."
   ]
  },
  {
   "cell_type": "code",
   "execution_count": null,
   "metadata": {},
   "outputs": [],
   "source": [
    "import sqlite3\n",
    "import pandas as pd\n",
    "\n",
    "# Connect to the SQLite database\n",
    "conn = sqlite3.connect('air_data/air-2022.db')\n",
    "\n",
    "# Select the data from the database\n",
    "df = pd.read_sql_query(\"SELECT * FROM air_2022\", conn)\n",
    "\n",
    "# Convert the date column to a datetime data type\n",
    "df['DateTime'] = pd.to_datetime(df['DateTime'])\n",
    "\n",
    "# Calculate the average value for each day and month and convert the date column to a string\n",
    "df_day = df.groupby(df['DateTime'].dt.date).mean().reset_index()\n",
    "df_month = df.groupby(df['DateTime'].dt.to_period('M')).mean().reset_index().astype({'DateTime': 'str'})\n",
    "\n",
    "# Write the summarized data to new tables in the same database\n",
    "df_day.to_sql('air_2022_day', conn, if_exists='replace')\n",
    "df_month.to_sql('air_2022_month', conn, if_exists='replace')\n",
    "\n",
    "# Close the database connection\n",
    "conn.close()"
   ]
  }
 ],
 "metadata": {
  "kernelspec": {
   "display_name": "Python 3",
   "language": "python",
   "name": "python3"
  },
  "language_info": {
   "codemirror_mode": {
    "name": "ipython",
    "version": 3
   },
   "file_extension": ".py",
   "mimetype": "text/x-python",
   "name": "python",
   "nbconvert_exporter": "python",
   "pygments_lexer": "ipython3",
   "version": "3.9.2"
  },
  "orig_nbformat": 4
 },
 "nbformat": 4,
 "nbformat_minor": 2
}
