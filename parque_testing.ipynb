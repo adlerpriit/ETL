{
 "cells": [
  {
   "cell_type": "code",
   "execution_count": null,
   "metadata": {},
   "outputs": [],
   "source": [
    "import pandas as pd\n",
    "\n",
    "# for year in range(2020, 2023):\n",
    "#     df = pd.read_csv('air_data/air_{}.csv'.format(year), sep=';', decimal=',', parse_dates=['Kuupäev'])\n",
    "#     df.to_parquet('air_data/air-{}.parquet'.format(year))\n",
    "\n",
    "for month in range(1, 13):\n",
    "    df = pd.read_csv(f'air_data/air_2022_{month}.csv', sep=';', decimal=',', parse_dates=['Kuupäev'])\n",
    "    df.to_parquet(f'air_data/air-2022-{month}.parquet')"
   ]
  },
  {
   "attachments": {},
   "cell_type": "markdown",
   "metadata": {},
   "source": [
    "### Load data back into pandas dataframe"
   ]
  },
  {
   "cell_type": "code",
   "execution_count": null,
   "metadata": {},
   "outputs": [],
   "source": [
    "df = pd.read_parquet(\"air_data/air-2022-1.parquet\")\n",
    "df"
   ]
  },
  {
   "attachments": {},
   "cell_type": "markdown",
   "metadata": {},
   "source": [
    "### Instead of pandas dataframes use duckdb.\n",
    "\n",
    "Keep files on disk without reading them into memory. Queries will be made over VIEW schema directly against files. In case of multiple files duckdb knows to perform queries in parallel."
   ]
  },
  {
   "cell_type": "code",
   "execution_count": null,
   "metadata": {},
   "outputs": [],
   "source": [
    "import duckdb\n",
    "con = duckdb.connect('duck.db')\n",
    "\n",
    "# into the database create view based on one or more data files\n",
    "con.sql(\" DROP VIEW IF EXISTS air; \")\n",
    "con.sql(\" CREATE VIEW air AS SELECT * FROM read_parquet('air_data/air-2022-*.parquet'); \")"
   ]
  },
  {
   "cell_type": "code",
   "execution_count": null,
   "metadata": {},
   "outputs": [],
   "source": [
    "con.sql(\" DESCRIBE SELECT * FROM air; \")"
   ]
  },
  {
   "cell_type": "code",
   "execution_count": null,
   "metadata": {},
   "outputs": [],
   "source": [
    "con.sql(\" SELECT COUNT(*) FROM air WHERE TEMP > 10; \")"
   ]
  },
  {
   "cell_type": "code",
   "execution_count": null,
   "metadata": {},
   "outputs": [],
   "source": [
    "con.close()"
   ]
  },
  {
   "cell_type": "code",
   "execution_count": null,
   "metadata": {},
   "outputs": [],
   "source": []
  }
 ],
 "metadata": {
  "kernelspec": {
   "display_name": "Python 3",
   "language": "python",
   "name": "python3"
  },
  "language_info": {
   "codemirror_mode": {
    "name": "ipython",
    "version": 3
   },
   "file_extension": ".py",
   "mimetype": "text/x-python",
   "name": "python",
   "nbconvert_exporter": "python",
   "pygments_lexer": "ipython3",
   "version": "3.9.2"
  },
  "orig_nbformat": 4
 },
 "nbformat": 4,
 "nbformat_minor": 2
}
