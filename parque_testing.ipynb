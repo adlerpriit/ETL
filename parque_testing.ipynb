{
 "cells": [
  {
   "cell_type": "code",
   "execution_count": null,
   "metadata": {},
   "outputs": [],
   "source": [
    "import pandas as pd\n",
    "\n",
    "for year in range(2020, 2023):\n",
    "    df = pd.read_csv('air_data/air_{}.csv'.format(year), sep=';')\n",
    "    df['SO2'] = df['SO2'].str.replace(',','.').astype(\"Float64\")\n",
    "    df['NO2'] = df['NO2'].str.replace(',','.').astype(\"Float64\")\n",
    "    df['CO'] = df['CO'].str.replace(',','.').astype(\"Float64\")\n",
    "    df['O3'] = df['O3'].str.replace(',','.').astype(\"Float64\")\n",
    "    df['PM2.5'] = df['PM2.5'].str.replace(',','.').astype(\"Float64\")\n",
    "    df['PM10'] = df['PM10'].str.replace(',','.').astype(\"Float64\")\n",
    "    df['TEMP'] = df['TEMP'].str.replace(',','.').astype(\"Float64\")\n",
    "    df['WS10'] = df['WS10'].str.replace(',','.').astype(\"Float64\")\n",
    "    df.to_parquet('air_data/air-{}.parquet'.format(year))"
   ]
  },
  {
   "cell_type": "code",
   "execution_count": null,
   "metadata": {},
   "outputs": [],
   "source": [
    "import duckdb\n",
    "con = duckdb.connect('duck.db')\n",
    "\n",
    "# into the database create view based on one or more data files\n",
    "con.sql(\" DROP VIEW IF EXISTS air; \")\n",
    "con.sql(\" CREATE VIEW air AS SELECT * FROM read_parquet('air_data/air-*.parquet'); \")"
   ]
  },
  {
   "cell_type": "code",
   "execution_count": null,
   "metadata": {},
   "outputs": [],
   "source": [
    "df = pd.read_parquet(\"air_data/air-2020.parquet\")"
   ]
  },
  {
   "cell_type": "code",
   "execution_count": null,
   "metadata": {},
   "outputs": [],
   "source": [
    "con.sql(\" DESCRIBE SELECT * FROM air; \")"
   ]
  },
  {
   "cell_type": "code",
   "execution_count": null,
   "metadata": {},
   "outputs": [],
   "source": [
    "con.sql(\" SELECT COUNT(*) FROM air WHERE TEMP > 10; \")"
   ]
  },
  {
   "cell_type": "code",
   "execution_count": null,
   "metadata": {},
   "outputs": [],
   "source": [
    "con.close()"
   ]
  },
  {
   "cell_type": "code",
   "execution_count": null,
   "metadata": {},
   "outputs": [],
   "source": []
  }
 ],
 "metadata": {
  "kernelspec": {
   "display_name": "Python 3",
   "language": "python",
   "name": "python3"
  },
  "language_info": {
   "codemirror_mode": {
    "name": "ipython",
    "version": 3
   },
   "file_extension": ".py",
   "mimetype": "text/x-python",
   "name": "python",
   "nbconvert_exporter": "python",
   "pygments_lexer": "ipython3",
   "version": "3.9.2"
  },
  "orig_nbformat": 4
 },
 "nbformat": 4,
 "nbformat_minor": 2
}
